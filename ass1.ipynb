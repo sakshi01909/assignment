{
  "nbformat": 4,
  "nbformat_minor": 0,
  "metadata": {
    "colab": {
      "provenance": [],
      "authorship_tag": "ABX9TyPWYjKuQvlO9COTCLFEsAEs",
      "include_colab_link": true
    },
    "kernelspec": {
      "name": "python3",
      "display_name": "Python 3"
    },
    "language_info": {
      "name": "python"
    }
  },
  "cells": [
    {
      "cell_type": "markdown",
      "metadata": {
        "id": "view-in-github",
        "colab_type": "text"
      },
      "source": [
        "<a href=\"https://colab.research.google.com/github/sakshi01909/assignment/blob/main/ass1.ipynb\" target=\"_parent\"><img src=\"https://colab.research.google.com/assets/colab-badge.svg\" alt=\"Open In Colab\"/></a>"
      ]
    },
    {
      "cell_type": "code",
      "execution_count": 3,
      "metadata": {
        "colab": {
          "base_uri": "https://localhost:8080/"
        },
        "id": "_wfQTVu43Uuo",
        "outputId": "1abed7a4-2d17-4a60-d608-670a8edb5965"
      },
      "outputs": [
        {
          "output_type": "stream",
          "name": "stdout",
          "text": [
            "Random Numbers: [32, 62, 78, 1, 15, 11, 64, 99, 64, 2]\n",
            "Even Numbers: [32, 62, 78, 64, 64, 2]\n"
          ]
        }
      ],
      "source": [
        "import random\n",
        "\n",
        "\n",
        "random_numbers = [random.randint(1, 99) for _ in range(10)]\n",
        "\n",
        "\n",
        "even_numbers = [num for num in random_numbers if num % 2 == 0]\n",
        "\n",
        "\n",
        "print(\"Random Numbers:\", random_numbers)\n",
        "print(\"Even Numbers:\", even_numbers)"
      ]
    },
    {
      "cell_type": "code",
      "source": [
        "text = \"machine learning that gives AI the ability to learn!\"\n",
        "\n",
        "\n",
        "reversed_string = text[::-1]\n",
        "\n",
        "\n",
        "reversed_words = ' '.join(text.split()[::-1])\n",
        "\n",
        "\n",
        "print(\"Original String:\", text)\n",
        "print(\"Reversed String:\", reversed_string)\n",
        "print(\"Words Reversed:\", reversed_words)"
      ],
      "metadata": {
        "colab": {
          "base_uri": "https://localhost:8080/"
        },
        "id": "4r5nMdN14IaS",
        "outputId": "d9876300-2ded-4ab7-8d17-ca3da903c145"
      },
      "execution_count": 4,
      "outputs": [
        {
          "output_type": "stream",
          "name": "stdout",
          "text": [
            "Original String: machine learning that gives AI the ability to learn!\n",
            "Reversed String: !nrael ot ytiliba eht IA sevig taht gninrael enihcam\n",
            "Words Reversed: learn! to ability the AI gives that learning machine\n"
          ]
        }
      ]
    }
  ]
}